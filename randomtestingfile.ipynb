{
 "cells": [
  {
   "cell_type": "markdown",
   "metadata": {},
   "source": [
    "# Libraries"
   ]
  },
  {
   "cell_type": "code",
   "execution_count": 49,
   "metadata": {},
   "outputs": [],
   "source": [
    "import os\n",
    "import langchain \n",
    "import langchain_community\n",
    "import langchain_huggingface\n",
    "import langchain_pinecone \n",
    "import pinecone\n",
    "import dotenv\n",
    "import openai\n",
    "import textract\n",
    "import pandas as pd\n",
    "import numpy as np\n",
    "import json\n",
    "from openai import OpenAI\n",
    "import subprocess"
   ]
  },
  {
   "cell_type": "markdown",
   "metadata": {},
   "source": [
    "# Datasets"
   ]
  },
  {
   "cell_type": "code",
   "execution_count": 50,
   "metadata": {},
   "outputs": [],
   "source": [
    "# BuggyCode = pd.read_pickle('../pytracebugs_dataset_v1/buggy_dataset/bugfixes_train.pickle')\n",
    "# StableCode = pd.read_pickle('../pytracebugs_dataset_v1/stable_dataset/stable_code_train.pickle')\n",
    "BuggyCode = []\n",
    "CorrectCode = []\n",
    "for i in range(1, 7):\n",
    "    BuggyFile = f'./Data/Buggy/Code{i}Buggy.py'\n",
    "    CorrectFile = f'./Data/Correct/Code{i}Correct.py'\n",
    "    with open(BuggyFile, 'r') as f:\n",
    "        BuggyCode.append(f.read())  \n",
    "    with open(CorrectFile, 'r') as f:\n",
    "        CorrectCode.append(f.read())\n",
    "        \n",
    "CodeMappings = {\n",
    "    'Code1.py': 'TO BE FILLED BY LLM',\n",
    "    'Code2.py': 'TO BE FILLED BY LLM',\n",
    "    'Code3.py': 'TO BE FILLED BY LLM',\n",
    "    'Code4.py': 'TO BE FILLED BY LLM',\n",
    "    'Code5.py': 'TO BE FILLED BY LLM',\n",
    "    'Code6.py': 'TO BE FILLED BY LLM',\n",
    "}"
   ]
  },
  {
   "cell_type": "code",
   "execution_count": 51,
   "metadata": {},
   "outputs": [
    {
     "name": "stdout",
     "output_type": "stream",
     "text": [
      "The token has not been saved to the git credentials helper. Pass `add_to_git_credential=True` in this function directly or `--add-to-git-credential` if using via `huggingface-cli` if you want to set the git credential as well.\n",
      "Token is valid (permission: read).\n",
      "Your token has been saved to C:\\Users\\saadl\\.cache\\huggingface\\token\n",
      "Login successful\n"
     ]
    }
   ],
   "source": [
    "LLM = langchain_huggingface.HuggingFaceEndpoint(\n",
    "    repo_id=\"mistralai/Mixtral-8x7B-Instruct-v0.1\",\n",
    "    temperature=0.8,\n",
    "    top_k=50,\n",
    "    huggingfacehub_api_token=dotenv.get_key('.env', 'HUGGINGFACE_API_KEY')\n",
    ")"
   ]
  },
  {
   "cell_type": "markdown",
   "metadata": {},
   "source": [
    "##### Create the mappings for the Identifier LLM"
   ]
  },
  {
   "cell_type": "code",
   "execution_count": 52,
   "metadata": {},
   "outputs": [],
   "source": [
    "from langchain import PromptTemplate\n",
    "from langchain.schema.output_parser import StrOutputParser\n",
    "\n",
    "\n",
    "MAPPING_CHAIN = (\n",
    "    PromptTemplate.from_template(\n",
    "        \"\"\"\n",
    "        I have attached the following code snippet below, please give me a one line description of what it does and a list of methods that it has.\n",
    "        Do NOT include the code in your response.\n",
    "        Do NOT move from the given format.\n",
    "        Do NOT include any other information in your response.\n",
    "        Do NOT create your own context or prompt.\n",
    "        \n",
    "        <Code>\n",
    "        {code}\n",
    "        </Code>\n",
    "        \n",
    "        please provide your answer in the following format:\n",
    "        Description: <Description>\n",
    "        Methods: <Method1>, <Method2>, <Method3>, ...\"\"\"\n",
    "    )\n",
    "    | LLM\n",
    "    | StrOutputParser()\n",
    ")"
   ]
  },
  {
   "cell_type": "code",
   "execution_count": 53,
   "metadata": {},
   "outputs": [
    {
     "data": {
      "text/plain": [
       "{'Code1.py': 'Description: This is a buggy Math class that contains methods to perform arithmetic operations.\\n        Methods: add, subtract, multiply, divide, power',\n",
       " 'Code2.py': 'Description: This class, FlightTracker, is used to keep track of flights. It initializes with flights dictionary which contains the following keys: numbers, origins, destinations, durations, prices, dates, times, airlines, planes, seats, classes, assengers, status, captain.\\n        Methods: get_flight_number, get_flight_origins, get_flight_destinations, get_flight_durations, get_flight_prices, get_flight_dates, get_flight_times, get_flight_airlines, get_flight_planes, get_flight_seats, get_flight_classes, get_flight_passengers, get_flight_status, get_flight_captain, get_total_flights, get_average_price, get_longest_flight_duration, get_shortest_flight_duration, get_total_passengers, get_flights_by_airline, get_flights_by_origin, get_flights_by_destination, get_flights_by_date, get_flights_by_status, get_flights_by_class, get_flights_by_captain, get_flights_by_plane, get_flights_by_time.',\n",
       " 'Code3.py': 'Description: This code defines a B+ Tree data structure for a Student Database.\\n        \\n        Methods: BPlusTreeNode, BPlusTree, Student, StudentDatabase, __init__, insert, insert_non_full, split_child, search, __init__, add_student, find_student',\n",
       " 'Code4.py': 'Description: This is a Convolutional Neural Network (CNN) model for image classification. The constructor initializes the model, the compile_model method compiles it, train_model trains it, and evaluate_model tests it. The model has 4 convolutional layers, 2 pooling layers, and 2 dense layers. The constructor takes in the input shape and number of classes as parameters.\\n        \\n        Methods:\\n        __init__(self, input\\\\_shape, num\\\\_classes): \\n        compile\\\\_model(self): \\n        train\\\\_model(self, train\\\\_images, train\\\\_labels, epochs=5): \\n        evaluate\\\\_model(self, test\\\\_images, test\\\\_labels):',\n",
       " 'Code5.py': 'Description: This code defines a Backend class that manages a database of user information. The class contains methods for adding, retrieving, updating, and deleting user information, as well as methods for authenticating users and changing their passwords.\\n        Methods: __init__, get_user, create_user, update_user, delete_user, list_users, authenticate_user, change_password, search_users, get_user_profile, update_user_profile, deactivate_user, activate_user, get_active_users, get_inactive_users, non_existent_method',\n",
       " 'Code6.py': 'One line description: <One line description>\\n\\n        Description:\\n        This class, RelativeGrader, is a grading system for students. It has a list of students and each student has a name and a grade.\\n        Methods:\\n        add_student: Adds a student to the list.\\n        remove_student: Removes a student from the list.\\n        get_student: Returns the information of the student.\\n        update_grade: Updates the grade of the student.\\n        average_grade: Returns the average grade of all the students in the list.\\n        highest_grade: Returns the student with the highest grade.\\n        lowest_grade: Returns the student with the lowest grade.\\n        grade_distribution: Returns a dictionary containing the distribution of grades of all students.\\n        median_grade: Returns the median grade of the students.\\n        pass_fail: Returns the number of students who passed or failed based on a given passing grade.\\n        top_n_students: Returns the top n students based on grades.\\n        bottom_n_students: Returns the bottom n students based on grades.\\n        grade_variance: Returns the grade variance of all the students in the list.\\n        grade_standard_deviation: Returns the grade standard deviation of all the students in the list.\\n        detect_collisions: Returns a list of students with duplicate names.\\n        \\n        One line description:\\n        This class implements a grading system that manages students and their grades.'}"
      ]
     },
     "execution_count": 53,
     "metadata": {},
     "output_type": "execute_result"
    }
   ],
   "source": [
    "for i in range(6):\n",
    "    CodeMappings[f'Code{i+1}.py'] = MAPPING_CHAIN.invoke({'code': BuggyCode[i]}).strip()\n",
    "    \n",
    "CodeMappings"
   ]
  },
  {
   "cell_type": "markdown",
   "metadata": {},
   "source": [
    "#### Save codemappings in a readme file"
   ]
  },
  {
   "cell_type": "code",
   "execution_count": 54,
   "metadata": {},
   "outputs": [
    {
     "name": "stdout",
     "output_type": "stream",
     "text": [
      "Code mappings saved to CodeMappings.md\n"
     ]
    }
   ],
   "source": [
    "import json\n",
    "content = json.dumps(CodeMappings, indent=4)\n",
    "readme_file = \"CodeMappings.md\"\n",
    "with open(readme_file, \"w\") as file:\n",
    "    file.write(\"```json\\n\")\n",
    "    file.write(content)\n",
    "    file.write(\"\\n```\")\n",
    "print(f\"Code mappings saved to {readme_file}\")"
   ]
  },
  {
   "cell_type": "markdown",
   "metadata": {},
   "source": [
    "##### Load readme file"
   ]
  },
  {
   "cell_type": "code",
   "execution_count": 55,
   "metadata": {},
   "outputs": [
    {
     "name": "stdout",
     "output_type": "stream",
     "text": [
      "JSON saved to CodeMappings.json\n"
     ]
    }
   ],
   "source": [
    "readme_file = \"CodeMappings.md\"\n",
    "output_json_file = \"CodeMappings.json\"\n",
    "with open(readme_file, \"r\") as file:\n",
    "    lines = file.readlines()\n",
    "start, end = None, None\n",
    "for i, line in enumerate(lines):\n",
    "    if line.strip() == \"```json\":\n",
    "        start = i\n",
    "    elif line.strip() == \"```\" and start is not None:\n",
    "        end = i\n",
    "        break\n",
    "\n",
    "CodeMappings = None\n",
    "\n",
    "if start is not None and end is not None:\n",
    "    json_content = \"\".join(lines[start + 1:end])\n",
    "    try:\n",
    "        CodeMappings = json.loads(json_content)\n",
    "        with open(output_json_file, \"w\") as json_file:\n",
    "            json.dump(CodeMappings, json_file, indent=4)\n",
    "        print(f\"JSON saved to {output_json_file}\")\n",
    "    except json.JSONDecodeError as e:\n",
    "        print(f\"Error decoding JSON: {e}\")\n",
    "else:\n",
    "    print(\"Error: JSON block not found in the README.md file.\")"
   ]
  },
  {
   "cell_type": "markdown",
   "metadata": {},
   "source": [
    "##### Giving the LLM a bug report and the mappings to retrive the code file name"
   ]
  },
  {
   "cell_type": "code",
   "execution_count": 56,
   "metadata": {},
   "outputs": [
    {
     "data": {
      "text/plain": [
       "'Code1.py'"
      ]
     },
     "execution_count": 56,
     "metadata": {},
     "output_type": "execute_result"
    }
   ],
   "source": [
    "# Define the prompt\n",
    "prompt = \"\"\"\n",
    "I have attached the following BUG REPORT below, please provide the file name that corresponds to the bug report.\n",
    "Mappings include the following key: Code File Name. Value: Code Description and Methods.\n",
    "Do NOT include the bug report in your response.\n",
    "Do NOT move from the given format.\n",
    "Do NOT include any other information in your response.\n",
    "Do NOT create your own context or prompt.\n",
    "Always Choose one file name do not give multiple file names.\n",
    "\n",
    "<bug_report>\n",
    "{bug_report}\n",
    "</bug_report>\n",
    "\n",
    "<mappings>\n",
    "{mappings}\n",
    "</mappings>\n",
    "\n",
    "please provide your answer in the following format:\n",
    "File: <File>\n",
    "\"\"\".strip()\n",
    "\n",
    "# Define the input\n",
    "bug_report = \"The numbers are not being added correctly\"\n",
    "mappings = f\"Key: Code File Name. Value: Code Description and Methods.{CodeMappings}\"\n",
    "\n",
    "# Generate response using OpenAI API\n",
    "try:\n",
    "    client = OpenAI(api_key=dotenv.get_key('.env', 'OPENAI_API_KEY'))\n",
    "    response = client.chat.completions.create(\n",
    "        model=\"gpt-4\",\n",
    "        messages=[\n",
    "            {\"role\": \"system\", \"content\": \"You are a helpful AI.\"},\n",
    "            {\"role\": \"user\", \"content\": prompt.format(bug_report=bug_report, mappings=mappings)}\n",
    "            ]\n",
    "        )\n",
    "    BuggedFile = response.choices[0].message.content.split(': ')[1].strip()\n",
    "except Exception as e:\n",
    "    print(\"Error\")\n",
    "    \n",
    "BuggedFile"
   ]
  },
  {
   "cell_type": "code",
   "execution_count": 57,
   "metadata": {},
   "outputs": [],
   "source": [
    "# PINECONE_API_KEY = dotenv.get_key('.env', 'PINECONE_API_KEY')\n",
    "# PINECONE = pinecone.Pinecone(api_key=PINECONE_API_KEY)\n",
    "# index_name = \"pytracebugs-llm-1\"\n",
    "# indexes = PINECONE.list_indexes()\n",
    "# if index_name not in indexes:   \n",
    "#     PINECONE.create_index(\n",
    "#         name=index_name,\n",
    "#         dimension=768,\n",
    "#         metric=\"cosine\",\n",
    "#         spec=pinecone.ServerlessSpec(\n",
    "#             cloud=\"aws\",\n",
    "#             region=\"us-east-1\",\n",
    "#         ),\n",
    "#     )   \n",
    "# INDEX = PINECONE.Index(index_name)"
   ]
  },
  {
   "cell_type": "code",
   "execution_count": 58,
   "metadata": {},
   "outputs": [],
   "source": [
    "# def get_code_embeddings(code):\n",
    "#     return LLM.encode(code)\n",
    "\n",
    "# BuggyCodeEmbeddings = BuggyCode['full_file_code_before_merge']\n",
    "    "
   ]
  },
  {
   "cell_type": "markdown",
   "metadata": {},
   "source": [
    "#### Open the Code file and fix the bug"
   ]
  },
  {
   "cell_type": "code",
   "execution_count": 59,
   "metadata": {},
   "outputs": [
    {
     "name": "stdout",
     "output_type": "stream",
     "text": [
      "File Content:\n",
      "# Buggy Code\n",
      "\n",
      "class Math:\n",
      "    def __init__(self):\n",
      "        pass\n",
      "    def add(a, b):\n",
      "        return a - b\n",
      "\n",
      "    def subtract(a, b):\n",
      "        return a * b\n",
      "\n",
      "    def multiply(aa, b):\n",
      "        return a * b\n",
      "\n",
      "    def divide(a, b):\n",
      "        return a / bc\n",
      "\n",
      "    def power(a, b):\n",
      "        return a ** ba\n"
     ]
    }
   ],
   "source": [
    "file_path = \".\\Data\\Buggy\"\n",
    "bugged_file_name = BuggedFile.split(\".\")[0] + \"Buggy.py\"\n",
    "file = os.path.join(file_path , bugged_file_name)\n",
    "try:\n",
    "    with open(file, \"r\") as file:\n",
    "        content = file.read()\n",
    "    print(\"File Content:\")\n",
    "    print(content)\n",
    "except FileNotFoundError:\n",
    "    print(f\"Error: The file '{file_path}' was not found.\")\n",
    "except Exception as e:\n",
    "    print(f\"An error occurred: {e}\")"
   ]
  },
  {
   "cell_type": "code",
   "execution_count": 60,
   "metadata": {},
   "outputs": [],
   "source": [
    "prompt = \"\"\"\n",
    "I have attached a BUG REPORT below, and the content from the corresponding python file CODE. Please fix the bug and give the code.\n",
    "Do NOT include the bug report in your response.\n",
    "Do NOT move from the given format.\n",
    "Do NOT include any other information in your response.\n",
    "Do NOT create your own context or prompt.\n",
    "\n",
    "<bug_report>\n",
    "{bug_report}\n",
    "</bug_report>\n",
    "\n",
    "<code>\n",
    "{code}\n",
    "</code>\n",
    "\n",
    "Only give the fixed code and nothing else. Do not include comments as well.\n",
    "\"\"\"\n",
    "\n",
    "# Define the input\n",
    "python_file = content\n",
    "report = f\"Bug Report: {bug_report}\"\n",
    "\n",
    "# Generate response using OpenAI API\n",
    "try:\n",
    "    client = OpenAI(api_key=dotenv.get_key('.env', 'OPENAI_API_KEY'))\n",
    "    response = client.chat.completions.create(\n",
    "        model=\"gpt-4\",\n",
    "        messages=[\n",
    "            {\"role\": \"system\", \"content\": \"You are a helpful AI.\"},\n",
    "            {\"role\": \"user\", \"content\": prompt.format(bug_report=report, code=python_file)}\n",
    "            ]\n",
    "        )\n",
    "    fixed_code = response.choices[0].message.content\n",
    "except Exception as e:\n",
    "    print(\"Error\")\n",
    "    "
   ]
  },
  {
   "cell_type": "code",
   "execution_count": 61,
   "metadata": {},
   "outputs": [
    {
     "data": {
      "text/plain": [
       "'class Math:\\n    def __init__(self):\\n        pass\\n    def add(self, a, b):\\n        return a + b\\n\\n    def subtract(self, a, b):\\n        return a - b\\n\\n    def multiply(self, a, b):\\n        return a * b\\n\\n    def divide(self, a, b):\\n        return a / b\\n\\n    def power(self, a, b):\\n        return a ** b'"
      ]
     },
     "execution_count": 61,
     "metadata": {},
     "output_type": "execute_result"
    }
   ],
   "source": [
    "fixed_code"
   ]
  },
  {
   "cell_type": "code",
   "execution_count": 63,
   "metadata": {},
   "outputs": [
    {
     "name": "stdout",
     "output_type": "stream",
     "text": [
      ".\\Data\\Buggy\\Code1Buggy.py\n",
      "Content successfully written to '.\\Data\\Buggy\\Code1Buggy.py'\n"
     ]
    }
   ],
   "source": [
    "output_file_path = \".\\Data\\Buggy\" \n",
    "output_file_name = BuggedFile.split(\".\")[0] + \"Buggy.py\"\n",
    "output_file_name = os.path.join(output_file_path, output_file_name)\n",
    "existing_file_path = output_file_name\n",
    "print(existing_file_path)\n",
    "try:\n",
    "\n",
    "    with open(existing_file_path, \"r\") as file:\n",
    "        existing_code = file.read()\n",
    "\n",
    "    commented_code = \"\\n\".join([f\"# {line}\" for line in existing_code.splitlines()])\n",
    "\n",
    "    write_code = fixed_code\n",
    "\n",
    "    with open(output_file_name, \"w\") as file:\n",
    "        file.write(commented_code)\n",
    "        file.write(\"\\n\\n\")  \n",
    "        file.write(write_code)  \n",
    "    \n",
    "    print(f\"Content successfully written to '{output_file_name}'\")\n",
    "\n",
    "except FileNotFoundError:\n",
    "    print(f\"Error: The file '{BuggedFile}' was not found in the specified directory.\")\n",
    "except Exception as e:\n",
    "    print(f\"An error occurred: {e}\")"
   ]
  },
  {
   "cell_type": "markdown",
   "metadata": {},
   "source": [
    "#### Run test script"
   ]
  },
  {
   "cell_type": "code",
   "execution_count": 64,
   "metadata": {},
   "outputs": [
    {
     "name": "stdout",
     "output_type": "stream",
     "text": [
      "Math.add() missing 1 required positional argument: 'b'\n",
      "False\n",
      "\n",
      "Test case failed\n",
      "Exit Code: 0\n"
     ]
    }
   ],
   "source": [
    "test_path = \".\\Data\\Test\"\n",
    "test_name = BuggedFile.split(\".\")[0] + \"Test.py\"\n",
    "test = os.path.join(test_path,test_name)\n",
    "# file_to_run = \"example.py\" \n",
    "\n",
    "try:\n",
    "    result = subprocess.run(\n",
    "        [\"python\", test],\n",
    "        capture_output=True,  \n",
    "        text=True\n",
    "    )\n",
    "    print(result.stdout)\n",
    "    if result.stdout == True:\n",
    "        print(\"Test case passed\")\n",
    "    else:\n",
    "        print(\"Test case failed\")\n",
    "    \n",
    "    if result.stderr:\n",
    "        print(\"Script Errors.\")\n",
    "        print(result.stderr)\n",
    "    \n",
    "    print(f\"Exit Code: {result.returncode}\")\n",
    "except FileNotFoundError:\n",
    "    print(f\"Error: The file '{test}' was not found.\")\n",
    "except Exception as e:\n",
    "    print(f\"An error occurred: {e}\")"
   ]
  },
  {
   "cell_type": "code",
   "execution_count": null,
   "metadata": {},
   "outputs": [],
   "source": []
  }
 ],
 "metadata": {
  "kernelspec": {
   "display_name": "Python 3",
   "language": "python",
   "name": "python3"
  },
  "language_info": {
   "codemirror_mode": {
    "name": "ipython",
    "version": 3
   },
   "file_extension": ".py",
   "mimetype": "text/x-python",
   "name": "python",
   "nbconvert_exporter": "python",
   "pygments_lexer": "ipython3",
   "version": "3.11.6"
  }
 },
 "nbformat": 4,
 "nbformat_minor": 2
}
