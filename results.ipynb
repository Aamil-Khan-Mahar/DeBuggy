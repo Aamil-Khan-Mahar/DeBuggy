{
 "cells": [
  {
   "cell_type": "code",
   "execution_count": 8,
   "metadata": {},
   "outputs": [
    {
     "name": "stdout",
     "output_type": "stream",
     "text": [
      "Average time taken:  48.790331999460854\n",
      "Accuracy:  100.0 %\n"
     ]
    }
   ],
   "source": [
    "import json\n",
    "import pandas as pd\n",
    "\n",
    "path = './Json/ResolvedReports.json'\n",
    "with open(path, 'r') as f:\n",
    "    data = json.load(f)\n",
    "    \n",
    "time_taken = {}\n",
    "resolved_count = 0\n",
    "for email in data.keys():\n",
    "    time_taken[email] = data[email]['end_time'] - data[email]['start_time']\n",
    "    if data[email]['status'] == 'Resolved':\n",
    "        resolved_count += 1\n",
    "    \n",
    "print('Average time taken: ', sum(time_taken.values())/len(time_taken))\n",
    "print('Accuracy: ', resolved_count/len(time_taken) * 100,'%')"
   ]
  }
 ],
 "metadata": {
  "kernelspec": {
   "display_name": "llms",
   "language": "python",
   "name": "python3"
  },
  "language_info": {
   "codemirror_mode": {
    "name": "ipython",
    "version": 3
   },
   "file_extension": ".py",
   "mimetype": "text/x-python",
   "name": "python",
   "nbconvert_exporter": "python",
   "pygments_lexer": "ipython3",
   "version": "3.12.2"
  }
 },
 "nbformat": 4,
 "nbformat_minor": 2
}
